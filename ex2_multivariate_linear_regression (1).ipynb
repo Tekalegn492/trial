{
  "cells": [
    {
      "cell_type": "code",
      "execution_count": null,
      "metadata": {
        "id": "U7tBExIyrXJB"
      },
      "outputs": [],
      "source": [
        "import numpy as np # import numpy for matrix operations"
      ]
    },
    {
      "cell_type": "code",
      "source": [
        "from google.colab import drive\n",
        "drive.mount('/content/drive')"
      ],
      "metadata": {
        "colab": {
          "base_uri": "https://localhost:8080/"
        },
        "id": "VnIPZGjMCzaH",
        "outputId": "0ebf8e95-19b4-4504-dca5-3dbffcf1d3f4"
      },
      "execution_count": null,
      "outputs": [
        {
          "output_type": "stream",
          "name": "stdout",
          "text": [
            "Drive already mounted at /content/drive; to attempt to forcibly remount, call drive.mount(\"/content/drive\", force_remount=True).\n"
          ]
        }
      ]
    },
    {
      "cell_type": "code",
      "execution_count": null,
      "metadata": {
        "id": "j6ANmhJbrXJD"
      },
      "outputs": [],
      "source": [
        "### this function load data from .dat file\n",
        "def load_dat(filename):\n",
        "    with open(filename, 'r') as fin:\n",
        "        lines = fin.readlines()\n",
        "        dim = len(lines[0].strip().split())\n",
        "        num_samples = len(lines)\n",
        "        data = np.zeros((num_samples, dim))\n",
        "        for i in range(num_samples):\n",
        "            data[i, :] = np.array([float(x) for x in lines[i].strip().split()])\n",
        "        return data"
      ]
    },
    {
      "cell_type": "code",
      "execution_count": null,
      "metadata": {
        "id": "NIQt8ZC1rXJG",
        "colab": {
          "base_uri": "https://localhost:8080/"
        },
        "outputId": "95e96b51-7149-4456-b5d2-c53378fc6ad2"
      },
      "outputs": [
        {
          "output_type": "stream",
          "name": "stdout",
          "text": [
            "X (47 x 2)\n",
            "Y (47)\n"
          ]
        }
      ],
      "source": [
        "### load data\n",
        "# call the load_dat function to load X and Y from the corresponding input files\n",
        "X = load_dat(\"/content/drive/MyDrive/ex2x.dat\")\n",
        "Y =  load_dat(\"/content/drive/MyDrive/ex2y.dat\")\n",
        "# get some statistics of the data\n",
        "num_samples = X.shape[0] # get the first dimension of X (i.e. number of rows)\n",
        "dim = X.shape[1] # get the second dimension of X (i.e. number of columns)\n",
        "print('X (%d x %d)' %(num_samples, dim))\n",
        "print('Y (%d)' %(num_samples))"
      ]
    },
    {
      "cell_type": "code",
      "execution_count": null,
      "metadata": {
        "id": "J9eH3V0drXJH",
        "colab": {
          "base_uri": "https://localhost:8080/"
        },
        "outputId": "674bfd45-c952-4279-a6bb-2db65cfd120d"
      },
      "outputs": [
        {
          "output_type": "stream",
          "name": "stdout",
          "text": [
            "X (47 x 3)\n",
            "Y (47 x 1)\n"
          ]
        }
      ],
      "source": [
        "### add intercept term to all samples in X\n",
        "intercept_column = np.ones((num_samples, 1))\n",
        "X = np.concatenate((intercept_column, X), axis=1)\n",
        "Y = Y.reshape([-1,1])\n",
        "print('X (%d x %d)' %(num_samples, dim + 1))\n",
        "print('Y (%d x 1)' %(num_samples))"
      ]
    },
    {
      "cell_type": "code",
      "execution_count": null,
      "metadata": {
        "tags": [],
        "id": "M-rNYY2orXJH"
      },
      "outputs": [],
      "source": [
        "### main functions of multivariate linear regression\n",
        "def pseudo_inverse(A):\n",
        "    # The pseudo inverse:\n",
        "    # Input: a matrix A\n",
        "    # Output: the pseudo_inverse of A\n",
        "    ### Your code here ###\n",
        "    AT=A.transpose()\n",
        "    xxTxinv=np.linalg.inv(np.matmul(AT,A))\n",
        "    res=np.matmul(xxTxinv,AT)\n",
        "    return res\n",
        "\n",
        "def sse(prediction,reference):\n",
        "    # Calculate the sum of square error between the prediction and reference vectors\n",
        "    ### Your code here ###\n",
        "  return np.sum((prediction - reference) ** 2)"
      ]
    },
    {
      "cell_type": "code",
      "execution_count": null,
      "metadata": {
        "id": "LcDgZgTxrXJI",
        "colab": {
          "base_uri": "https://localhost:8080/"
        },
        "outputId": "e4508e2c-0696-48f1-ff91-0a27ce58940a"
      },
      "outputs": [
        {
          "output_type": "stream",
          "name": "stdout",
          "text": [
            "[[89597.9095428 ]\n",
            " [  139.21067402]\n",
            " [-8738.01911233]]\n"
          ]
        }
      ],
      "source": [
        "### estimate beta\n",
        "# call the pseudo_inverse to estimate beta from X and Y\n",
        "beta =np.matmul(pseudo_inverse(X),Y)  ### Your code here\n",
        "# print the estimated (learned) parameters\n",
        "print(beta)"
      ]
    },
    {
      "cell_type": "code",
      "execution_count": null,
      "metadata": {
        "id": "gl_6AHA8rXJJ",
        "colab": {
          "base_uri": "https://localhost:8080/"
        },
        "outputId": "d35f4154-e8b7-4cc2-8e2d-04c479161e01"
      },
      "outputs": [
        {
          "output_type": "stream",
          "name": "stdout",
          "text": [
            "Sum of square error: 192068324756.665924\n"
          ]
        }
      ],
      "source": [
        "### evaluate the model\n",
        "# calculate the predicted scores\n",
        "prediction =np.matmul(X,beta) ### Your code here\n",
        "# calculate the sum of square error\n",
        "error = sse(prediction, Y)\n",
        "print('Sum of square error: %f' %error)"
      ]
    },
    {
      "cell_type": "code",
      "execution_count": null,
      "metadata": {
        "id": "LiYSlShDrXJJ",
        "colab": {
          "base_uri": "https://localhost:8080/"
        },
        "outputId": "e345c354-336f-467e-c02b-47356bcd4545"
      },
      "outputs": [
        {
          "output_type": "stream",
          "name": "stdout",
          "text": [
            "beta_2:  [3.  2.  0.5]\n",
            "Sum of square error: 870474360.750000\n"
          ]
        }
      ],
      "source": [
        "### Extra step\n",
        "# generate synthetic scores\n",
        "Ys = 3 * X[:,0] + 2 * X[:,1] + 0.5 * X[:,2] # generate Ys using a linear function of the features of X\n",
        "# perform multivariate linear regression with X and Ys as inputs\n",
        "beta_2 =np.matmul(pseudo_inverse(X),Ys)  ### Your code here\n",
        "print('beta_2: ', beta_2)\n",
        "# calculate the predicted scores\n",
        "prediction2=np.matmul(X,beta_2)\n",
        "prediction_2 =sse(prediction2, Ys)  ### Your code here\n",
        "# calculate the sum of square error\n",
        "error_2 = sse(prediction_2, Ys)\n",
        "print('Sum of square error: %f' %error_2)"
      ]
    },
    {
      "cell_type": "code",
      "source": [],
      "metadata": {
        "id": "17zV-l3bN6Ov"
      },
      "execution_count": null,
      "outputs": []
    },
    {
      "cell_type": "code",
      "execution_count": null,
      "metadata": {
        "collapsed": true,
        "jupyter": {
          "outputs_hidden": true
        },
        "id": "CYGha6rHrXJL"
      },
      "outputs": [],
      "source": []
    }
  ],
  "metadata": {
    "anaconda-cloud": {},
    "kernelspec": {
      "display_name": "Python 3.8 (XPython)",
      "language": "python",
      "name": "xpython"
    },
    "language_info": {
      "file_extension": ".py",
      "mimetype": "text/x-python",
      "name": "python",
      "version": "3.8.6"
    },
    "colab": {
      "provenance": []
    }
  },
  "nbformat": 4,
  "nbformat_minor": 0
}